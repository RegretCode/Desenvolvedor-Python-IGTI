{
  "nbformat": 4,
  "nbformat_minor": 0,
  "metadata": {
    "colab": {
      "provenance": [],
      "authorship_tag": "ABX9TyPECH3hbK0e3+BS1iF24L+F",
      "include_colab_link": true
    },
    "kernelspec": {
      "name": "python3",
      "display_name": "Python 3"
    },
    "language_info": {
      "name": "python"
    }
  },
  "cells": [
    {
      "cell_type": "markdown",
      "metadata": {
        "id": "view-in-github",
        "colab_type": "text"
      },
      "source": [
        "<a href=\"https://colab.research.google.com/github/RegretCode/Desenvolvedor-Python-IGTI/blob/main/DesafioPraticoMd_4.ipynb\" target=\"_parent\"><img src=\"https://colab.research.google.com/assets/colab-badge.svg\" alt=\"Open In Colab\"/></a>"
      ]
    },
    {
      "cell_type": "code",
      "execution_count": null,
      "metadata": {
        "id": "Bqqg8QPkDOna"
      },
      "outputs": [],
      "source": [
        "# Neste desafio serão utilizados todos os módulos apresentados durante o Módulo 4\n",
        "# deste Bootcamp. Módulos como o scikit-learn, pandas, threading, rx e pygame são\n",
        "# empregados para construir aplicações que utilizem conceitos mais avançados da\n",
        "# linguagem Python. Desse modo, é possível perceber a vasta aplicabilidade dessa\n",
        "# linguagem para se resolver diversos problemas de diferentes complexidades através da\n",
        "# computação. Obs.: considere utilizar-se das documentações destas referidas\n",
        "# bibliotecas.\n",
        "\n",
        "# a) Considere a utilização da importação do módulo StandardScaler, para as análises de métricas, utilize o accuracy_score\n",
        "\n",
        "# b) Para a base de dados, considere o atributo income como a variável alvo.\n",
        "\n",
        "# c) Utilize essa sequência de operações para chegar no resultado final: divida os dados\n",
        "# entre entrada e saída, normalize apenas as entradas utilizando o StandardScaler e,\n",
        "# depois, aplique a divisão entre treinamento e teste com o train_test_split"
      ]
    },
    {
      "cell_type": "code",
      "source": [
        "from sklearn.metrics import accuracy_score, classification_report\n",
        "\n",
        "# Exemplo de uso do accuracy_score\n",
        "y_true = [0, 1, 1, 0, 1]\n",
        "y_pred = [0, 1, 1, 1, 1]\n",
        "accuracy = accuracy_score(y_true, y_pred)\n",
        "print(\"Acurácia:\", accuracy)\n",
        "\n",
        "# Exemplo de uso do classification_report\n",
        "target_names = ['class 0', 'class 1']\n",
        "report = classification_report(y_true, y_pred, target_names=target_names)\n",
        "print(\"Relatório de Classificação:\")\n",
        "print(report)\n"
      ],
      "metadata": {
        "colab": {
          "base_uri": "https://localhost:8080/"
        },
        "id": "1ZaLMlNbGa2e",
        "outputId": "4806eee0-bb66-4376-df30-ba90ea714db8"
      },
      "execution_count": null,
      "outputs": [
        {
          "output_type": "stream",
          "name": "stdout",
          "text": [
            "Acurácia: 0.8\n",
            "Relatório de Classificação:\n",
            "              precision    recall  f1-score   support\n",
            "\n",
            "     class 0       1.00      0.50      0.67         2\n",
            "     class 1       0.75      1.00      0.86         3\n",
            "\n",
            "    accuracy                           0.80         5\n",
            "   macro avg       0.88      0.75      0.76         5\n",
            "weighted avg       0.85      0.80      0.78         5\n",
            "\n"
          ]
        }
      ]
    },
    {
      "cell_type": "code",
      "source": [
        "import pandas as pd\n",
        "from sklearn.model_selection import train_test_split\n",
        "from sklearn.ensemble import RandomForestClassifier\n",
        "from sklearn.metrics import accuracy_score\n",
        "\n",
        "# Carregar o arquivo CSV diretamente do link fornecido\n",
        "data_url = \"https://drive.google.com/uc?export=download&id=1QG2TLiB_WInzJnYeEDokzxkd5XtPSjil\"\n",
        "df = pd.read_csv(data_url)\n",
        "\n",
        "# Separar os dados de entrada (X) e o alvo (y)\n",
        "X = df.drop(\"income\", axis=1)\n",
        "y = df[\"income\"]\n",
        "\n",
        "# Pré-processar os dados usando codificação one-hot\n",
        "X_encoded = pd.get_dummies(X)\n",
        "\n",
        "# Dividir os dados em conjunto de treinamento e teste\n",
        "X_treinamento, X_teste, y_treinamento, y_teste = train_test_split(X_encoded, y, test_size=0.2, random_state=42)\n",
        "\n",
        "# Criar e treinar o modelo Random Forest\n",
        "random_forest_census = RandomForestClassifier(n_estimators=100, criterion='entropy', random_state=0)\n",
        "random_forest_census.fit(X_treinamento, y_treinamento)\n",
        "\n",
        "# Fazer previsões no conjunto de teste\n",
        "previsoes = random_forest_census.predict(X_teste)\n",
        "\n",
        "# Calcular a acurácia do modelo\n",
        "acuracia = accuracy_score(y_teste, previsoes)\n",
        "print(\"Acurácia do modelo:\", acuracia)\n"
      ],
      "metadata": {
        "colab": {
          "base_uri": "https://localhost:8080/"
        },
        "id": "RaA8zbU1UvC7",
        "outputId": "5898528e-6edc-4f45-b418-efa98e93709f"
      },
      "execution_count": null,
      "outputs": [
        {
          "output_type": "stream",
          "name": "stdout",
          "text": [
            "Acurácia do modelo: 0.8607400583448488\n"
          ]
        }
      ]
    }
  ]
}