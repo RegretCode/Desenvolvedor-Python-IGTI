{
  "nbformat": 4,
  "nbformat_minor": 0,
  "metadata": {
    "colab": {
      "provenance": [],
      "authorship_tag": "ABX9TyOZ5AmzkYb/8bMHTPKFMnJk",
      "include_colab_link": true
    },
    "kernelspec": {
      "name": "python3",
      "display_name": "Python 3"
    },
    "language_info": {
      "name": "python"
    }
  },
  "cells": [
    {
      "cell_type": "markdown",
      "metadata": {
        "id": "view-in-github",
        "colab_type": "text"
      },
      "source": [
        "<a href=\"https://colab.research.google.com/github/RegretCode/Desenvolvedor-Python-IGTI/blob/main/factorial.ipynb\" target=\"_parent\"><img src=\"https://colab.research.google.com/assets/colab-badge.svg\" alt=\"Open In Colab\"/></a>"
      ]
    },
    {
      "cell_type": "code",
      "execution_count": null,
      "metadata": {
        "id": "LeWHQRNiL05w",
        "outputId": "9ff6f520-1e4f-461a-d889-1ef5a4c0ed8d",
        "colab": {
          "base_uri": "https://localhost:8080/"
        }
      },
      "outputs": [
        {
          "output_type": "stream",
          "name": "stdout",
          "text": [
            "Tempo projetado para matriz 29x29: 4.2750082398150864e+23 segundos\n",
            "Tempo projetado para matriz 44x44: 1.285279211760402e+47 segundos\n"
          ]
        }
      ],
      "source": [
        "# Fatorial\n",
        "def factorial(n):\n",
        "    if n == 0 or n == 1:\n",
        "        return 1\n",
        "    else:\n",
        "        return n * factorial(n - 1)\n",
        "\n",
        "# Tempo para matriz 15x15\n",
        "tempo_15x15 = 63226.297\n",
        "\n",
        "# Projeção para matriz 29x29\n",
        "projecao_29x29 = tempo_15x15 * factorial(29) / factorial(15)\n",
        "\n",
        "# Projeção para matriz 44x44\n",
        "projecao_44x44 = tempo_15x15 * factorial(44) / factorial(15)\n",
        "\n",
        "print(\"Tempo projetado para matriz 29x29:\", projecao_29x29, \"segundos\")\n",
        "print(\"Tempo projetado para matriz 44x44:\", projecao_44x44, \"segundos\")\n"
      ]
    }
  ]
}