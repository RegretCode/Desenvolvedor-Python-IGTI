{
  "nbformat": 4,
  "nbformat_minor": 0,
  "metadata": {
    "colab": {
      "provenance": [],
      "authorship_tag": "ABX9TyPDfA+1zcDFaJoOeb46VPC4",
      "include_colab_link": true
    },
    "kernelspec": {
      "name": "python3",
      "display_name": "Python 3"
    },
    "language_info": {
      "name": "python"
    }
  },
  "cells": [
    {
      "cell_type": "markdown",
      "metadata": {
        "id": "view-in-github",
        "colab_type": "text"
      },
      "source": [
        "<a href=\"https://colab.research.google.com/github/RegretCode/Desenvolvedor-Python-IGTI/blob/main/TrabalhoPraticoMd_2.ipynb\" target=\"_parent\"><img src=\"https://colab.research.google.com/assets/colab-badge.svg\" alt=\"Open In Colab\"/></a>"
      ]
    },
    {
      "cell_type": "code",
      "execution_count": null,
      "metadata": {
        "id": "qrFdKyAtx7q1"
      },
      "outputs": [],
      "source": [
        "# Importar as bibliotecas do numpy e pandas\n",
        "import numpy as np\n",
        "import pandas as pd"
      ]
    },
    {
      "cell_type": "code",
      "source": [
        "# Executar/Completar os trechos de código a seguir para responder às\n",
        "# questões objetivas. Complete-os de forma que o resultado da execução\n",
        "# da função print seja igual ao da imagem correspondente:\n",
        "\n",
        "# == CODIGO 1 == #\n",
        "Z = np.zeros((4, ))\n",
        "print(\"Z:\", Z)"
      ],
      "metadata": {
        "colab": {
          "base_uri": "https://localhost:8080/"
        },
        "id": "h38c408q3KIV",
        "outputId": "53ada56b-96c4-4410-f8dd-d8a5f7837af6"
      },
      "execution_count": null,
      "outputs": [
        {
          "output_type": "stream",
          "name": "stdout",
          "text": [
            "Z: [0. 0. 0. 0.]\n"
          ]
        }
      ]
    },
    {
      "cell_type": "code",
      "source": [
        "# == CODIGO 2 == #\n",
        "Z = np.zeros((4, ))\n",
        "Z[1] = 1\n",
        "print(\"Z:\", Z)"
      ],
      "metadata": {
        "colab": {
          "base_uri": "https://localhost:8080/"
        },
        "id": "S3w1AQFz8RzS",
        "outputId": "877aa3c2-f27b-4713-d5d3-0cabc766e138"
      },
      "execution_count": null,
      "outputs": [
        {
          "output_type": "stream",
          "name": "stdout",
          "text": [
            "Z: [0. 1. 0. 0.]\n"
          ]
        }
      ]
    },
    {
      "cell_type": "code",
      "source": [
        "# == CODIGO 3 == #\n",
        "Z = np.zeros((4, ))\n",
        "Z[1:] = 1\n",
        "print(\"Z:\", Z)"
      ],
      "metadata": {
        "colab": {
          "base_uri": "https://localhost:8080/"
        },
        "id": "LBHCmdya8dOz",
        "outputId": "38011064-1d0d-43d0-fe63-2df5e45b6e83"
      },
      "execution_count": null,
      "outputs": [
        {
          "output_type": "stream",
          "name": "stdout",
          "text": [
            "Z: [0. 1. 1. 1.]\n"
          ]
        }
      ]
    },
    {
      "cell_type": "code",
      "source": [
        "# == CODIGO 4 == #\n",
        "Z = np.ones((4, ))\n",
        "Z [-1:]= 0\n",
        "print(\"Z:\", Z)\n",
        "\n",
        "# #===================\n",
        "# a = np.zeros((4, ))\n",
        "# a[:3] = 1.\n",
        "# print(\"a:\", a)\n",
        "# #===================\n",
        "# b = np.ones((4,))\n",
        "# b[-1] = 0.\n",
        "# print(\"b:\", b)\n",
        "# #===================\n",
        "# c = np.zeros((4, ))\n",
        "# c[:-1] = 1.\n",
        "# print(\"c:\", c)\n",
        "# #===================\n",
        "# d = np.ones((4,))\n",
        "# d[4] = 0. <-------------------- esse esta errado, index out of bounds\n",
        "# print(\"d:\", d)"
      ],
      "metadata": {
        "colab": {
          "base_uri": "https://localhost:8080/"
        },
        "id": "PlRw4I7X89OD",
        "outputId": "fb0e95fe-e355-47dc-9583-bf240c5dcca0"
      },
      "execution_count": null,
      "outputs": [
        {
          "output_type": "stream",
          "name": "stdout",
          "text": [
            "Z: [1. 1. 1. 0.]\n"
          ]
        }
      ]
    },
    {
      "cell_type": "code",
      "source": [
        "# == CODIGO 5 == #\n",
        "X = np.array([[2, 2], [2, 2]])\n",
        "print(\"X:\", X)\n",
        "\n",
        "# #===================\n",
        "# a = np.array([2.] * 4).reshape(2, 2)\n",
        "# print(\"a:\", a)\n",
        "# #===================\n",
        "# b = 2 * np.ones((2, 2))\n",
        "# print(\"b:\", b)\n",
        "# #===================\n",
        "# c = np.ones((2, 2)) + np.ones((2, 2))\n",
        "# print(\"c:\", c)\n",
        "# #===================\n",
        "# d = np.twos((2, 2)) <----------------- n existe np.twos\n",
        "# print(\"c:\", c)"
      ],
      "metadata": {
        "colab": {
          "base_uri": "https://localhost:8080/"
        },
        "id": "01tEJL499lZt",
        "outputId": "e3ef0668-9c2b-4b06-ec30-f5eafcab56ba"
      },
      "execution_count": null,
      "outputs": [
        {
          "output_type": "stream",
          "name": "stdout",
          "text": [
            "X: [[2 2]\n",
            " [2 2]]\n"
          ]
        }
      ]
    },
    {
      "cell_type": "code",
      "source": [
        "# == CODIGO 6 == #\n",
        "X = np.array([[1, 2], [3, 4]])\n",
        "Y = X[0, :]\n",
        "Y[1] = 10\n",
        "print(\"X:\\n\", X)"
      ],
      "metadata": {
        "colab": {
          "base_uri": "https://localhost:8080/"
        },
        "id": "0_oFrInL-z3f",
        "outputId": "5a1649d7-39db-4a64-dcc7-856499f59dba"
      },
      "execution_count": null,
      "outputs": [
        {
          "output_type": "stream",
          "name": "stdout",
          "text": [
            "X:\n",
            " [[ 1 10]\n",
            " [ 3  4]]\n"
          ]
        }
      ]
    },
    {
      "cell_type": "code",
      "source": [
        "# == CODIGO 7 == #\n",
        "X = np.array([[1, 3], [11, 10]])\n",
        "print(np.mean(X[X > np.pi]))  # np.mean eh uma funcao do NumPy que calcula a media dos vetores de um array ou ao longo de um determinado eixo.\n",
        "                              # np.pi eh uma constante definida em NumPy que representa o valor de Pi"
      ],
      "metadata": {
        "colab": {
          "base_uri": "https://localhost:8080/"
        },
        "id": "WOuMFn60_Wkb",
        "outputId": "e3656fd8-c599-4187-9990-01a71b12bd05"
      },
      "execution_count": null,
      "outputs": [
        {
          "output_type": "stream",
          "name": "stdout",
          "text": [
            "10.5\n"
          ]
        }
      ]
    },
    {
      "cell_type": "code",
      "source": [
        "# == CODIGO 8 == #\n",
        "data  = {'animal': ['cat', 'cat', 'snake', 'dog', 'dog', 'cat', 'snake', 'cat', 'dog', 'dog'],\n",
        "         'age' : [2.5, 3, 0.5, np.nan, 5, 2, 4.5, np.nan, 7, 3], # np.nan == not an number\n",
        "         'visits' : [1, 3, 2, 3, 2, 3, 1, 1, 2, 1],\n",
        "         'priority' : ['yes' , 'yes', 'no', 'yes', 'no', 'no', 'no', 'yes', 'no', 'no']}\n",
        "labels = ['a', 'b', 'c', 'd', 'e', 'f', 'g', 'h', 'i', 'j']\n",
        "\n",
        "print(data)\n",
        "print(labels)"
      ],
      "metadata": {
        "colab": {
          "base_uri": "https://localhost:8080/"
        },
        "id": "kmiSoHOZ_i14",
        "outputId": "d0dacead-c839-45da-ed36-bc0c93f980e4"
      },
      "execution_count": null,
      "outputs": [
        {
          "output_type": "stream",
          "name": "stdout",
          "text": [
            "{'animal': ['cat', 'cat', 'snake', 'dog', 'dog', 'cat', 'snake', 'cat', 'dog', 'dog'], 'age': [2.5, 3, 0.5, nan, 5, 2, 4.5, nan, 7, 3], 'visits': [1, 3, 2, 3, 2, 3, 1, 1, 2, 1], 'priority': ['yes', 'yes', 'no', 'yes', 'no', 'no', 'no', 'yes', 'no', 'no']}\n",
            "['a', 'b', 'c', 'd', 'e', 'f', 'g', 'h', 'i', 'j']\n"
          ]
        }
      ]
    },
    {
      "cell_type": "code",
      "source": [
        "# == CODIGO 9 == #\n",
        "df = pd.DataFrame(data=data, index=labels)\n",
        "print(df)\n",
        "\n",
        "#====================\n",
        "# df.shape #atributo de df pode ser acessado para uma rápida verificação de sua dimensão (número de linhas, número de colunas)\n",
        "# df['animal'].value_counts() #<---------- Retorna um pandas DataFrame contendo a contagem da quantidade de vezes que cada elemento único aparece na coluna ‘animal’.\n",
        "# df.describe()\n",
        "# df.sort_values(by='visits', ascending=False) #<- retorna um pandas DataFrame ordenado de forma decrescente baseado na coluna ‘visits’"
      ],
      "metadata": {
        "colab": {
          "base_uri": "https://localhost:8080/"
        },
        "id": "WPRoDwoOBSZ2",
        "outputId": "302b02e9-0417-4bbd-be44-4c9db2902529"
      },
      "execution_count": null,
      "outputs": [
        {
          "output_type": "stream",
          "name": "stdout",
          "text": [
            "  animal  age  visits priority\n",
            "a    cat  2.5       1      yes\n",
            "b    cat  3.0       3      yes\n",
            "c  snake  0.5       2       no\n",
            "d    dog  NaN       3      yes\n",
            "e    dog  5.0       2       no\n",
            "f    cat  2.0       3       no\n",
            "g  snake  4.5       1       no\n",
            "h    cat  NaN       1      yes\n",
            "i    dog  7.0       2       no\n",
            "j    dog  3.0       1       no\n"
          ]
        }
      ]
    },
    {
      "cell_type": "code",
      "source": [
        "# == CODIGO 10 == #\n",
        "y_true = np.array([1., 2., 1.])\n",
        "y_pred = np.array([1.1, 1.98, 1.05])\n",
        "\n",
        "np.sqrt(((y_true-y_pred)**2).mean()) # calcula a raiz quadrada da média dos erros ao quadrado entre dois arrays: y_true e y_pred. Essa métrica é comumente usada para avaliar a diferença ou o erro entre valores previstos (y_pred) e valores reais (y_true)."
      ],
      "metadata": {
        "colab": {
          "base_uri": "https://localhost:8080/"
        },
        "id": "WVRk-A9nGg8F",
        "outputId": "3a09145f-b1cf-44ca-b0d3-253b1a9b26d6"
      },
      "execution_count": null,
      "outputs": [
        {
          "output_type": "stream",
          "name": "stdout",
          "text": [
            "[1. 2. 1.]\n",
            "[1.1  1.98 1.05]\n"
          ]
        },
        {
          "output_type": "execute_result",
          "data": {
            "text/plain": [
              "0.06557438524302006"
            ]
          },
          "metadata": {},
          "execution_count": 70
        }
      ]
    }
  ]
}