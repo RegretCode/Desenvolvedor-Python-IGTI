{
  "nbformat": 4,
  "nbformat_minor": 0,
  "metadata": {
    "colab": {
      "provenance": [],
      "authorship_tag": "ABX9TyPyRtNdT+yWQDHYsUTWyxze",
      "include_colab_link": true
    },
    "kernelspec": {
      "name": "python3",
      "display_name": "Python 3"
    },
    "language_info": {
      "name": "python"
    }
  },
  "cells": [
    {
      "cell_type": "markdown",
      "metadata": {
        "id": "view-in-github",
        "colab_type": "text"
      },
      "source": [
        "<a href=\"https://colab.research.google.com/github/RegretCode/Desenvolvedor-Python-IGTI/blob/main/Intro_Panda.ipynb\" target=\"_parent\"><img src=\"https://colab.research.google.com/assets/colab-badge.svg\" alt=\"Open In Colab\"/></a>"
      ]
    },
    {
      "cell_type": "code",
      "execution_count": null,
      "metadata": {
        "colab": {
          "base_uri": "https://localhost:8080/"
        },
        "id": "dwD-vYa9DBUL",
        "outputId": "8781ef2d-fa29-4376-80b7-78795fe62711"
      },
      "outputs": [
        {
          "output_type": "stream",
          "name": "stdout",
          "text": [
            "   YearsExperience  Salary\n",
            "0              1.1   39343\n",
            "1              1.3   46205\n",
            "2              1.5   37731\n",
            "3              2.0   43525\n",
            "4              2.2   39891\n"
          ]
        }
      ],
      "source": [
        "import pandas as pd\n",
        "\n",
        "# Baixar o arquivo CSV\n",
        "url = \"https://pycourse.s3.amazonaws.com/Salary.csv\"\n",
        "data = pd.read_csv(url)\n",
        "\n",
        "# Carregar os dados em um DataFrame\n",
        "df = pd.DataFrame(data)\n",
        "\n",
        "# Visualizar as primeiras linhas do DataFrame\n",
        "print(df.head())\n"
      ]
    },
    {
      "cell_type": "code",
      "source": [
        "import requests\n",
        "import json\n",
        "\n",
        "# Endpoint URL da API\n",
        "url = \"https://as5jmctylk.execute-api.us-east-1.amazonaws.com/default/demo_forecast\"\n",
        "\n",
        "# Dados de entrada com anos de experiência igual a zero\n",
        "data = {\"YearsExperience\": 0}\n",
        "\n",
        "# Fazendo a requisição POST para a API\n",
        "response = requests.post(url, data=json.dumps(data))\n",
        "\n",
        "# Extraindo a resposta em formato JSON\n",
        "result = response.json()\n",
        "\n",
        "# Obtendo o salário anual previsto para uma pessoa sem experiência\n",
        "C_0 = result[\"YearsExperience\"]\n",
        "\n",
        "# Imprimindo o valor de C_0\n",
        "print(f\"O valor do coeficiente C_0 é: {C_0}\")\n",
        "# Dados de entrada com um ano de experiência\n",
        "data = {\"YearsExperience\": 1}\n",
        "\n",
        "# Fazendo a requisição POST para a API\n",
        "response = requests.post(url, data=json.dumps(data))\n",
        "\n",
        "# Extraindo a resposta em formato JSON\n",
        "result = response.json()\n",
        "\n",
        "# Obtendo o salário anual previsto para uma pessoa com um ano de experiência\n",
        "C_1 = result[\"YearsExperience\"] - C_0\n",
        "\n",
        "# Imprimindo o valor de C_1\n",
        "print(f\"O valor do coeficiente C_1 é: {C_1}\")\n"
      ],
      "metadata": {
        "colab": {
          "base_uri": "https://localhost:8080/"
        },
        "id": "CCVPCKRgckII",
        "outputId": "45e9a16f-c0d2-4ace-bb93-a2a28d8a3881"
      },
      "execution_count": null,
      "outputs": [
        {
          "output_type": "stream",
          "name": "stdout",
          "text": [
            "O valor do coeficiente C_0 é: 28859.53\n",
            "O valor do coeficiente C_1 é: 8731.940000000002\n"
          ]
        }
      ]
    }
  ]
}