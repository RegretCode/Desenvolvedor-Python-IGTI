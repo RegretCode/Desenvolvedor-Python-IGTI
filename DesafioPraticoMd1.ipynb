{
  "nbformat": 4,
  "nbformat_minor": 0,
  "metadata": {
    "colab": {
      "provenance": [],
      "authorship_tag": "ABX9TyPtUlVwOkSmkyad4+GrgP27",
      "include_colab_link": true
    },
    "kernelspec": {
      "name": "python3",
      "display_name": "Python 3"
    },
    "language_info": {
      "name": "python"
    }
  },
  "cells": [
    {
      "cell_type": "markdown",
      "metadata": {
        "id": "view-in-github",
        "colab_type": "text"
      },
      "source": [
        "<a href=\"https://colab.research.google.com/github/RegretCode/Desenvolvedor-Python-IGTI/blob/main/DesafioPraticoMd1.ipynb\" target=\"_parent\"><img src=\"https://colab.research.google.com/assets/colab-badge.svg\" alt=\"Open In Colab\"/></a>"
      ]
    },
    {
      "cell_type": "code",
      "execution_count": null,
      "metadata": {
        "colab": {
          "base_uri": "https://localhost:8080/"
        },
        "id": "gmPQrjUTW560",
        "outputId": "6d19cc20-ff64-4eb9-be89-851aeb16d756"
      },
      "outputs": [
        {
          "output_type": "stream",
          "name": "stdout",
          "text": [
            "{'Maria': 5, 'Julieta': 7, 'Fernando': 8, 'Cristiano': 9, 'Cláudio': 7}\n"
          ]
        },
        {
          "output_type": "execute_result",
          "data": {
            "text/plain": [
              "5"
            ]
          },
          "metadata": {},
          "execution_count": 15
        }
      ],
      "source": [
        "# Atividade 01. Execute e analise a saída do seguinte código\n",
        "\n",
        "# relação dos nomes\n",
        "nomes = ['Maria', 'Julieta', 'Fernando', 'Cristiano', 'Julieta', 'Maria', 'Fernando', 'Cláudio']\n",
        "\n",
        "# estrutura que irá armazenar o número de letras de cada nome\n",
        "qtd_letras = {}\n",
        "\n",
        "# calcula o tamanho de cada nome (em número de letras) e armazena o valor na estrutura\n",
        "for nome in nomes:\n",
        "  qtd_letras[nome] = len(nome)\n",
        "\n",
        "print(qtd_letras)\n",
        "len(qtd_letras)\n"
      ]
    },
    {
      "cell_type": "code",
      "source": [
        "# Atividade 02. Reescreva o código da Atividade 01 utilizando o conceito de compreensão de dicionários (dict comprehension).\n",
        "qtd_letras = {nome:len(nome) for nome in nomes}\n",
        "print(qtd_letras)"
      ],
      "metadata": {
        "colab": {
          "base_uri": "https://localhost:8080/"
        },
        "id": "bCXGPvfTXvrA",
        "outputId": "2a860275-7ef8-4142-d094-f8bc93d04ddf"
      },
      "execution_count": null,
      "outputs": [
        {
          "output_type": "stream",
          "name": "stdout",
          "text": [
            "{'Maria': 5, 'Julieta': 7, 'Fernando': 8, 'Cristiano': 9, 'Cláudio': 7}\n"
          ]
        }
      ]
    },
    {
      "cell_type": "code",
      "source": [
        "# Atividade 03. Crie uma função area(r, pi), que calcule a área de um círculo.\n",
        "# A área de um círculo é dada por 𝑎 = 𝜋𝑟^2, onde:\n",
        "# • 𝜋 é o número pi, cujo valor é ~3,14159265359\n",
        "# • 𝑟 é o raio do círculo\n",
        "# Esta função deve receber dois argumentos, r e pi, e retornar a área de um círculo com raio r. Entretanto, você deve fornecer duas opções de utilização da função:\n",
        "# a) A utilização de um valor padrão para pi (𝜋 = 3,14), sem a necessidade de declarar explicitamente o seu valor;\n",
        "# b) A utilização com a declaração explicita do valor exato de pi desejado.\n",
        "# Por exemplo, para um raio 𝑟 = 8, o usuário poderá utilizar a sua função das\n",
        "# seguintes maneiras:\n",
        "# Utilização da função sem declarar pi\n",
        "# Neste caso o valor de pi deverá ser 3.14 e o resultado: 3.14 * (8 ** 2)\n",
        "# area(8)\n",
        "# def area(r):\n",
        "#   return 3.14 * (r ** 2)\n",
        "\n",
        "# resultado = area(15)\n",
        "# print(resultado)\n",
        "\n",
        "# Utilização da função declarando explicitamente o valor de pi\n",
        "# Neste caso o valor de pi deverá ser 3,141592 e o resultado: 3,141592 * (8 ** 2)\n",
        "# area(8, 3,141592)\n",
        "def area(r, pi):\n",
        "  return pi * (r ** 2)\n",
        "\n",
        "result = area(15, 3.14)\n",
        "print(result)"
      ],
      "metadata": {
        "colab": {
          "base_uri": "https://localhost:8080/"
        },
        "id": "cVA-izGbbqhV",
        "outputId": "2d4ff8da-9ef1-406c-b5e4-3eb516946d02"
      },
      "execution_count": null,
      "outputs": [
        {
          "output_type": "stream",
          "name": "stdout",
          "text": [
            "706.5\n"
          ]
        }
      ]
    },
    {
      "cell_type": "code",
      "source": [
        "# Atividade 04. Reescreva a função area da atividade 3, utilizando o conceito de funções anônimas (funções lambdas).\n",
        "area_circulo = lambda r: 3.14 * (r ** 2)\n",
        "\n",
        "print(area_circulo(8))"
      ],
      "metadata": {
        "colab": {
          "base_uri": "https://localhost:8080/"
        },
        "id": "_ghB1IUgljQV",
        "outputId": "0eda49c1-54e5-409c-d103-c378ee7497fe"
      },
      "execution_count": null,
      "outputs": [
        {
          "output_type": "stream",
          "name": "stdout",
          "text": [
            "200.96\n"
          ]
        }
      ]
    },
    {
      "cell_type": "code",
      "source": [
        "# Atividade 05. Crie um módulo em Python, chamado processalista (arquivo processalista.py), com as seguintes funções, que deverão receber como argumento uma lista (tipo list) de números inteiros.\n",
        "# Encontra e retorna o maior número impar presente na lista\n",
        "def maior_impar(lista):\n",
        "  maiorImpar = [num for num in lista if num % 2 != 0]\n",
        "  if maiorImpar:\n",
        "    return max(maiorImpar)\n",
        "  return None\n",
        "# Encontra e retorna o menor número impar presente na lista\n",
        "def menor_impar(lista):\n",
        "  menorImpar = [num for num in lista if num % 2 != 0]\n",
        "  if menorImpar:\n",
        "    return min(menorImpar)\n",
        "  return None\n",
        "  return\n",
        "# Encontra e retorna o maior e o menor número ímpar presentes na lista\n",
        "def impar(lista):\n",
        "    menor = menor_impar(lista)\n",
        "    maior = maior_impar(lista)\n",
        "    return menor, maior\n",
        "# ● Enquanto as duas primeiras funções devem retornar um único valor, a última função deverá retornar dois valores."
      ],
      "metadata": {
        "id": "aH4-w9ZHorPT"
      },
      "execution_count": null,
      "outputs": []
    },
    {
      "cell_type": "code",
      "source": [
        "# Atividade 06. Considere a seguinte agenda de disponibilidade de atendimento de uma clínica com vários médicos, cada um de uma especialidade distinta.\n",
        "# Essa clínica possuí apenas três consultórios, e, por isso, no máximo três médicos podem atender por dia.\n",
        "# ---------------------------------------------------------------\n",
        "# |Especialidade  |  Segunda | Terça |  Quarta | Quinta | Sexta |\n",
        "# |Cardiologista  |          |   V   |    V    |        |       |\n",
        "# |Ortopedista    |          |   V   |         |    V   |       |\n",
        "# |Dermatologista |     V    |       |    V    |        |   V   |\n",
        "# |Neurologista   |          |   V   |         |    V   |   V   |\n",
        "# |Psiquiatra     |     V    |       |    V    |        |       |\n",
        "# ---------------------------------------------------------------\n",
        "# A clínica percebeu que os pacientes que desejam se consultar com mais de um médico sempre solicitam que o atendimento seja realizado no mesmo dia.\n",
        "# Por exemplo, um paciente gostaria de se consultar, no mesmo dia, com o ortopedista e com o neurologista, então os dias disponíveis serão: terça e quinta.\n",
        "# Outro exemplo é um paciente que gostaria de se consultar com o dermatologista, o neurologista e o psiquiatra. O único dia disponível será a sexta.\n",
        "# Entretanto, essas solicitações estão causando dor de cabeça, pois é necessário verificar manualmente a disponibilidade. Você, como um(a) aspirante a\n",
        "# desenvolvedor Python, aceitou o desafio de ajudar a automatizar essa tarefa. Para tanto, irá desenvolver duas funções que receberão a relação de\n",
        "# disponibilidade de cada médico e que retornarão os dias disponíveis:\n",
        "\n",
        "# relação de dias da semana que cada médico atende\n",
        "cardiologista = {'terca', 'quarta'}\n",
        "ortopedista = {'terca', 'quinta'}\n",
        "dermatologista = {'segunda', 'quarta', 'sexta'}\n",
        "neurologista = {'terca', 'quinta', 'sexta'}\n",
        "psiquiatra = {'segunda', 'quarta', 'sexta'}\n",
        "\n",
        "# Calcula quais os dias possíveis para dois médicos\n",
        "def disp_dois_especialistas(medico01, medico02):\n",
        "  disponibilidade = medico01.intersection(medico02)\n",
        "  return disponibilidade\n",
        "\n",
        "# Calcula quais os dias possíveis para três médicos\n",
        "def disp_tres_especialistas(medico01, medico02, medico03):\n",
        "  disponibilidade = medico01.intersection(medico02, medico03)\n",
        "  return disponibilidade\n",
        "\n",
        "# Assim, para os exemplos anteriores, as funções deverão ter os seguintes retornos:\n",
        "\n",
        "# Médicos solicitados: ortopedista e neurologista\n",
        "t1 = disp_dois_especialistas(ortopedista, neurologista)\n",
        "# RETORNA: terça e quinta\n",
        "print(t1)\n",
        "\n",
        "# Médicos solicitados: dermatologista, neurologista, psquiatra\n",
        "t2 = disp_tres_especialistas(dermatologista, neurologista, psiquiatra)\n",
        "# RETORNA: sexta\n",
        "print(t2)"
      ],
      "metadata": {
        "colab": {
          "base_uri": "https://localhost:8080/"
        },
        "id": "lNPqUPfwAo8Z",
        "outputId": "d7681f4e-2e83-48d8-c7e1-a90021ea55c3"
      },
      "execution_count": null,
      "outputs": [
        {
          "output_type": "stream",
          "name": "stdout",
          "text": [
            "{'quinta', 'terca'}\n",
            "{'sexta'}\n"
          ]
        }
      ]
    }
  ]
}