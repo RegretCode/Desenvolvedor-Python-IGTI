{
  "nbformat": 4,
  "nbformat_minor": 0,
  "metadata": {
    "colab": {
      "provenance": [],
      "authorship_tag": "ABX9TyMcQWWytKRzjGFVWiNgQTcV",
      "include_colab_link": true
    },
    "kernelspec": {
      "name": "python3",
      "display_name": "Python 3"
    },
    "language_info": {
      "name": "python"
    }
  },
  "cells": [
    {
      "cell_type": "markdown",
      "metadata": {
        "id": "view-in-github",
        "colab_type": "text"
      },
      "source": [
        "<a href=\"https://colab.research.google.com/github/RegretCode/Desenvolvedor-Python-IGTI/blob/main/DesafioMd2.ipynb\" target=\"_parent\"><img src=\"https://colab.research.google.com/assets/colab-badge.svg\" alt=\"Open In Colab\"/></a>"
      ]
    },
    {
      "cell_type": "code",
      "execution_count": null,
      "metadata": {
        "id": "SYE6QYk_RCex"
      },
      "outputs": [],
      "source": [
        "# Realizar a análise de uma base de dados real em Python.\n",
        "\n",
        "# Enunciado:\n",
        "# O uso de bicicletas como meio de transporte ganhou muita força nos últimos\n",
        "# anos, seja por questões ambientais, de saúde ou até mesmo de infraestrutura\n",
        "# de trânsito. Para incentivar seu uso, cidades em todo o mundo têm\n",
        "# implementado programas de compartilhamento de bicicleta. Nesses\n",
        "# sistemas, elas são retiradas e devolvidas em quiosques automatizados que\n",
        "# ficam espalhados por diversos pontos da cidade.\n",
        "\n",
        "# As plataformas de compartilhamento de bicicletas costumam coletar diversos\n",
        "# tipos de dados, como a duração da viagem, as localizações iniciais e finais dos\n",
        "# percursos, entre outros. Esses dados, em conjunto com informações sobre o\n",
        "# clima, o trânsito e o relevo, por exemplo, possibilitam uma análise mais\n",
        "# robusta do compartilhamento de bicicletas.\n",
        "\n",
        "# Segue um descritivo dos dados coletados:\n",
        "\n",
        "# - rec_id: Indice do registro de locacao;\n",
        "# - datetime: data;\n",
        "# - season: estacao do ano (1:inverno, 2: primavera, 3: verao, 4: outono).  Relativo ao hemisferio norte;\n",
        "# - year: ano (0: 2011, 1: 2012);\n",
        "# - month: mes (1 a 12);\n",
        "# - hour: hora do dia (0 a 23);\n",
        "# - is_holiday: boolean indicando dia feriado;\n",
        "# - weekday: dia da semana(0: domingo, 1: segunda, ..., 6: sabado);\n",
        "# - is_workingday: boolean indicando dia util\n",
        "# - weather_condition: (1: limpo, 2: nublado, 3: chuva leve, 4: chuva forte);\n",
        "# - temp: Temperatura escalada entre 0 e 1. Valor original em graus Celsius: -8 a 39;\n",
        "# - atemp: Sensacao termica escalada entre 0 e 1. Valor original em graus Celsius: -16 a 50;\n",
        "# - humidity: Humidade relativa (0 a 1);\n",
        "# - casual: numero de locacoes para usuario casuaias;\n",
        "# - registered: numero de locacoes para usuarios registrados;\n",
        "# - total_count: contador total de alugueis (casual+registered).\n",
        "\n",
        "# Esta atividade tem como objetivo analisar os dados de compartilhamento de\n",
        "# bicicletas em uma cidade, coletados pela Universidade do Porto."
      ]
    },
    {
      "cell_type": "code",
      "source": [
        "# Objetivo, importar as bibliotecas numpy e pandar e analisar o dataset \"https://pycourse.s3.amazonaws.com/bike-sharing.csv\"\n",
        "\n",
        "# Responder às seguintes perguntas:\n",
        "# a. Qual o tamanho desse dataset?\n",
        "# b. Qual a média da coluna windspeed?\n",
        "# c. Qual a média da coluna temp?\n",
        "# d. Quantos registros existem para o ano de 2011?\n",
        "# e. Quantos registros existem para o ano de 2012?\n",
        "# f. Quantas locações de bicicletas foram efetuadas em 2011?\n",
        "# g. Quantas locações de bicicletas foram efetuadas em 2012?\n",
        "# h. Qual estação do ano contém a maior média de locações de bicicletas?\n",
        "# i. Qual estação do ano contém a menor média de locações de bicicletas?\n",
        "# j. Qual horário do dia contém a maior média de locações de bicicletas?\n",
        "# k. Qual horário do dia contém a menor média de locações de bicicletas?\n",
        "# l. Que dia da semana contém a maior média de locações de bicicletas?\n",
        "# m. Que dia da semana contém a menor média de locações de bicicletas?\n",
        "# n. Às quartas-feiras (weekday = 3), qual o horário do dia que contém a maior média de locações de bicicletas?\n",
        "# o. Aos sábados (weekday = 6), qual o horário do dia que contém a maior média de locações de bicicletas?\n",
        "\n",
        "# importando as bibliotecas\n",
        "import numpy as np\n",
        "import pandas as pd\n",
        "\n",
        "# carregando o dataset e utilizando o pandas\n",
        "df = pd.read_csv(\"https://pycourse.s3.amazonaws.com/bike-sharing.csv\")\n",
        "df.describe()"
      ],
      "metadata": {
        "colab": {
          "base_uri": "https://localhost:8080/",
          "height": 364
        },
        "id": "KM8TBYx5RG2r",
        "outputId": "642a73cc-d98d-43f3-c92e-2992c9f5f0bc"
      },
      "execution_count": null,
      "outputs": [
        {
          "output_type": "execute_result",
          "data": {
            "text/plain": [
              "           rec_id        season          year         month          hour  \\\n",
              "count  17379.0000  17379.000000  17379.000000  17379.000000  17379.000000   \n",
              "mean    8690.0000      2.501640      0.502561      6.537775     11.546752   \n",
              "std     5017.0295      1.106918      0.500008      3.438776      6.914405   \n",
              "min        1.0000      1.000000      0.000000      1.000000      0.000000   \n",
              "25%     4345.5000      2.000000      0.000000      4.000000      6.000000   \n",
              "50%     8690.0000      3.000000      1.000000      7.000000     12.000000   \n",
              "75%    13034.5000      3.000000      1.000000     10.000000     18.000000   \n",
              "max    17379.0000      4.000000      1.000000     12.000000     23.000000   \n",
              "\n",
              "         is_holiday       weekday  is_workingday  weather_condition  \\\n",
              "count  17379.000000  17379.000000   17379.000000       17379.000000   \n",
              "mean       0.028770      3.003683       0.682721           1.425283   \n",
              "std        0.167165      2.005771       0.465431           0.639357   \n",
              "min        0.000000      0.000000       0.000000           1.000000   \n",
              "25%        0.000000      1.000000       0.000000           1.000000   \n",
              "50%        0.000000      3.000000       1.000000           1.000000   \n",
              "75%        0.000000      5.000000       1.000000           2.000000   \n",
              "max        1.000000      6.000000       1.000000           4.000000   \n",
              "\n",
              "               temp         atemp      humidity     windspeed        casual  \\\n",
              "count  17379.000000  17379.000000  17379.000000  17379.000000  17379.000000   \n",
              "mean       0.496987      0.475775      0.627229      0.190098     35.676218   \n",
              "std        0.192556      0.171850      0.192930      0.122340     49.305030   \n",
              "min        0.020000      0.000000      0.000000      0.000000      0.000000   \n",
              "25%        0.340000      0.333300      0.480000      0.104500      4.000000   \n",
              "50%        0.500000      0.484800      0.630000      0.194000     17.000000   \n",
              "75%        0.660000      0.621200      0.780000      0.253700     48.000000   \n",
              "max        1.000000      1.000000      1.000000      0.850700    367.000000   \n",
              "\n",
              "         registered   total_count  \n",
              "count  17379.000000  17379.000000  \n",
              "mean     153.786869    189.463088  \n",
              "std      151.357286    181.387599  \n",
              "min        0.000000      1.000000  \n",
              "25%       34.000000     40.000000  \n",
              "50%      115.000000    142.000000  \n",
              "75%      220.000000    281.000000  \n",
              "max      886.000000    977.000000  "
            ],
            "text/html": [
              "\n",
              "  <div id=\"df-7b70735d-c148-4119-8e4c-032e6b6ab755\">\n",
              "    <div class=\"colab-df-container\">\n",
              "      <div>\n",
              "<style scoped>\n",
              "    .dataframe tbody tr th:only-of-type {\n",
              "        vertical-align: middle;\n",
              "    }\n",
              "\n",
              "    .dataframe tbody tr th {\n",
              "        vertical-align: top;\n",
              "    }\n",
              "\n",
              "    .dataframe thead th {\n",
              "        text-align: right;\n",
              "    }\n",
              "</style>\n",
              "<table border=\"1\" class=\"dataframe\">\n",
              "  <thead>\n",
              "    <tr style=\"text-align: right;\">\n",
              "      <th></th>\n",
              "      <th>rec_id</th>\n",
              "      <th>season</th>\n",
              "      <th>year</th>\n",
              "      <th>month</th>\n",
              "      <th>hour</th>\n",
              "      <th>is_holiday</th>\n",
              "      <th>weekday</th>\n",
              "      <th>is_workingday</th>\n",
              "      <th>weather_condition</th>\n",
              "      <th>temp</th>\n",
              "      <th>atemp</th>\n",
              "      <th>humidity</th>\n",
              "      <th>windspeed</th>\n",
              "      <th>casual</th>\n",
              "      <th>registered</th>\n",
              "      <th>total_count</th>\n",
              "    </tr>\n",
              "  </thead>\n",
              "  <tbody>\n",
              "    <tr>\n",
              "      <th>count</th>\n",
              "      <td>17379.0000</td>\n",
              "      <td>17379.000000</td>\n",
              "      <td>17379.000000</td>\n",
              "      <td>17379.000000</td>\n",
              "      <td>17379.000000</td>\n",
              "      <td>17379.000000</td>\n",
              "      <td>17379.000000</td>\n",
              "      <td>17379.000000</td>\n",
              "      <td>17379.000000</td>\n",
              "      <td>17379.000000</td>\n",
              "      <td>17379.000000</td>\n",
              "      <td>17379.000000</td>\n",
              "      <td>17379.000000</td>\n",
              "      <td>17379.000000</td>\n",
              "      <td>17379.000000</td>\n",
              "      <td>17379.000000</td>\n",
              "    </tr>\n",
              "    <tr>\n",
              "      <th>mean</th>\n",
              "      <td>8690.0000</td>\n",
              "      <td>2.501640</td>\n",
              "      <td>0.502561</td>\n",
              "      <td>6.537775</td>\n",
              "      <td>11.546752</td>\n",
              "      <td>0.028770</td>\n",
              "      <td>3.003683</td>\n",
              "      <td>0.682721</td>\n",
              "      <td>1.425283</td>\n",
              "      <td>0.496987</td>\n",
              "      <td>0.475775</td>\n",
              "      <td>0.627229</td>\n",
              "      <td>0.190098</td>\n",
              "      <td>35.676218</td>\n",
              "      <td>153.786869</td>\n",
              "      <td>189.463088</td>\n",
              "    </tr>\n",
              "    <tr>\n",
              "      <th>std</th>\n",
              "      <td>5017.0295</td>\n",
              "      <td>1.106918</td>\n",
              "      <td>0.500008</td>\n",
              "      <td>3.438776</td>\n",
              "      <td>6.914405</td>\n",
              "      <td>0.167165</td>\n",
              "      <td>2.005771</td>\n",
              "      <td>0.465431</td>\n",
              "      <td>0.639357</td>\n",
              "      <td>0.192556</td>\n",
              "      <td>0.171850</td>\n",
              "      <td>0.192930</td>\n",
              "      <td>0.122340</td>\n",
              "      <td>49.305030</td>\n",
              "      <td>151.357286</td>\n",
              "      <td>181.387599</td>\n",
              "    </tr>\n",
              "    <tr>\n",
              "      <th>min</th>\n",
              "      <td>1.0000</td>\n",
              "      <td>1.000000</td>\n",
              "      <td>0.000000</td>\n",
              "      <td>1.000000</td>\n",
              "      <td>0.000000</td>\n",
              "      <td>0.000000</td>\n",
              "      <td>0.000000</td>\n",
              "      <td>0.000000</td>\n",
              "      <td>1.000000</td>\n",
              "      <td>0.020000</td>\n",
              "      <td>0.000000</td>\n",
              "      <td>0.000000</td>\n",
              "      <td>0.000000</td>\n",
              "      <td>0.000000</td>\n",
              "      <td>0.000000</td>\n",
              "      <td>1.000000</td>\n",
              "    </tr>\n",
              "    <tr>\n",
              "      <th>25%</th>\n",
              "      <td>4345.5000</td>\n",
              "      <td>2.000000</td>\n",
              "      <td>0.000000</td>\n",
              "      <td>4.000000</td>\n",
              "      <td>6.000000</td>\n",
              "      <td>0.000000</td>\n",
              "      <td>1.000000</td>\n",
              "      <td>0.000000</td>\n",
              "      <td>1.000000</td>\n",
              "      <td>0.340000</td>\n",
              "      <td>0.333300</td>\n",
              "      <td>0.480000</td>\n",
              "      <td>0.104500</td>\n",
              "      <td>4.000000</td>\n",
              "      <td>34.000000</td>\n",
              "      <td>40.000000</td>\n",
              "    </tr>\n",
              "    <tr>\n",
              "      <th>50%</th>\n",
              "      <td>8690.0000</td>\n",
              "      <td>3.000000</td>\n",
              "      <td>1.000000</td>\n",
              "      <td>7.000000</td>\n",
              "      <td>12.000000</td>\n",
              "      <td>0.000000</td>\n",
              "      <td>3.000000</td>\n",
              "      <td>1.000000</td>\n",
              "      <td>1.000000</td>\n",
              "      <td>0.500000</td>\n",
              "      <td>0.484800</td>\n",
              "      <td>0.630000</td>\n",
              "      <td>0.194000</td>\n",
              "      <td>17.000000</td>\n",
              "      <td>115.000000</td>\n",
              "      <td>142.000000</td>\n",
              "    </tr>\n",
              "    <tr>\n",
              "      <th>75%</th>\n",
              "      <td>13034.5000</td>\n",
              "      <td>3.000000</td>\n",
              "      <td>1.000000</td>\n",
              "      <td>10.000000</td>\n",
              "      <td>18.000000</td>\n",
              "      <td>0.000000</td>\n",
              "      <td>5.000000</td>\n",
              "      <td>1.000000</td>\n",
              "      <td>2.000000</td>\n",
              "      <td>0.660000</td>\n",
              "      <td>0.621200</td>\n",
              "      <td>0.780000</td>\n",
              "      <td>0.253700</td>\n",
              "      <td>48.000000</td>\n",
              "      <td>220.000000</td>\n",
              "      <td>281.000000</td>\n",
              "    </tr>\n",
              "    <tr>\n",
              "      <th>max</th>\n",
              "      <td>17379.0000</td>\n",
              "      <td>4.000000</td>\n",
              "      <td>1.000000</td>\n",
              "      <td>12.000000</td>\n",
              "      <td>23.000000</td>\n",
              "      <td>1.000000</td>\n",
              "      <td>6.000000</td>\n",
              "      <td>1.000000</td>\n",
              "      <td>4.000000</td>\n",
              "      <td>1.000000</td>\n",
              "      <td>1.000000</td>\n",
              "      <td>1.000000</td>\n",
              "      <td>0.850700</td>\n",
              "      <td>367.000000</td>\n",
              "      <td>886.000000</td>\n",
              "      <td>977.000000</td>\n",
              "    </tr>\n",
              "  </tbody>\n",
              "</table>\n",
              "</div>\n",
              "      <button class=\"colab-df-convert\" onclick=\"convertToInteractive('df-7b70735d-c148-4119-8e4c-032e6b6ab755')\"\n",
              "              title=\"Convert this dataframe to an interactive table.\"\n",
              "              style=\"display:none;\">\n",
              "        \n",
              "  <svg xmlns=\"http://www.w3.org/2000/svg\" height=\"24px\"viewBox=\"0 0 24 24\"\n",
              "       width=\"24px\">\n",
              "    <path d=\"M0 0h24v24H0V0z\" fill=\"none\"/>\n",
              "    <path d=\"M18.56 5.44l.94 2.06.94-2.06 2.06-.94-2.06-.94-.94-2.06-.94 2.06-2.06.94zm-11 1L8.5 8.5l.94-2.06 2.06-.94-2.06-.94L8.5 2.5l-.94 2.06-2.06.94zm10 10l.94 2.06.94-2.06 2.06-.94-2.06-.94-.94-2.06-.94 2.06-2.06.94z\"/><path d=\"M17.41 7.96l-1.37-1.37c-.4-.4-.92-.59-1.43-.59-.52 0-1.04.2-1.43.59L10.3 9.45l-7.72 7.72c-.78.78-.78 2.05 0 2.83L4 21.41c.39.39.9.59 1.41.59.51 0 1.02-.2 1.41-.59l7.78-7.78 2.81-2.81c.8-.78.8-2.07 0-2.86zM5.41 20L4 18.59l7.72-7.72 1.47 1.35L5.41 20z\"/>\n",
              "  </svg>\n",
              "      </button>\n",
              "      \n",
              "  <style>\n",
              "    .colab-df-container {\n",
              "      display:flex;\n",
              "      flex-wrap:wrap;\n",
              "      gap: 12px;\n",
              "    }\n",
              "\n",
              "    .colab-df-convert {\n",
              "      background-color: #E8F0FE;\n",
              "      border: none;\n",
              "      border-radius: 50%;\n",
              "      cursor: pointer;\n",
              "      display: none;\n",
              "      fill: #1967D2;\n",
              "      height: 32px;\n",
              "      padding: 0 0 0 0;\n",
              "      width: 32px;\n",
              "    }\n",
              "\n",
              "    .colab-df-convert:hover {\n",
              "      background-color: #E2EBFA;\n",
              "      box-shadow: 0px 1px 2px rgba(60, 64, 67, 0.3), 0px 1px 3px 1px rgba(60, 64, 67, 0.15);\n",
              "      fill: #174EA6;\n",
              "    }\n",
              "\n",
              "    [theme=dark] .colab-df-convert {\n",
              "      background-color: #3B4455;\n",
              "      fill: #D2E3FC;\n",
              "    }\n",
              "\n",
              "    [theme=dark] .colab-df-convert:hover {\n",
              "      background-color: #434B5C;\n",
              "      box-shadow: 0px 1px 3px 1px rgba(0, 0, 0, 0.15);\n",
              "      filter: drop-shadow(0px 1px 2px rgba(0, 0, 0, 0.3));\n",
              "      fill: #FFFFFF;\n",
              "    }\n",
              "  </style>\n",
              "\n",
              "      <script>\n",
              "        const buttonEl =\n",
              "          document.querySelector('#df-7b70735d-c148-4119-8e4c-032e6b6ab755 button.colab-df-convert');\n",
              "        buttonEl.style.display =\n",
              "          google.colab.kernel.accessAllowed ? 'block' : 'none';\n",
              "\n",
              "        async function convertToInteractive(key) {\n",
              "          const element = document.querySelector('#df-7b70735d-c148-4119-8e4c-032e6b6ab755');\n",
              "          const dataTable =\n",
              "            await google.colab.kernel.invokeFunction('convertToInteractive',\n",
              "                                                     [key], {});\n",
              "          if (!dataTable) return;\n",
              "\n",
              "          const docLinkHtml = 'Like what you see? Visit the ' +\n",
              "            '<a target=\"_blank\" href=https://colab.research.google.com/notebooks/data_table.ipynb>data table notebook</a>'\n",
              "            + ' to learn more about interactive tables.';\n",
              "          element.innerHTML = '';\n",
              "          dataTable['output_type'] = 'display_data';\n",
              "          await google.colab.output.renderOutput(dataTable, element);\n",
              "          const docLink = document.createElement('div');\n",
              "          docLink.innerHTML = docLinkHtml;\n",
              "          element.appendChild(docLink);\n",
              "        }\n",
              "      </script>\n",
              "    </div>\n",
              "  </div>\n",
              "  "
            ]
          },
          "metadata": {},
          "execution_count": 4
        }
      ]
    },
    {
      "cell_type": "code",
      "source": [
        "num_linhas, num_colunas = df.shape # shape retorna uma tupla contendo o numero de linhas e colunas do DataFrame\n",
        "\n",
        "# a. Qual o tamanho desse dataset?\n",
        "print(f'O dataset possui {num_linhas} Linhas e, {num_colunas} Colunas.')"
      ],
      "metadata": {
        "colab": {
          "base_uri": "https://localhost:8080/"
        },
        "id": "Rm2kSmpuV5Yt",
        "outputId": "090d7dab-9410-41fc-c9ec-40789499253d"
      },
      "execution_count": null,
      "outputs": [
        {
          "output_type": "stream",
          "name": "stdout",
          "text": [
            "O dataset possui 17379 Linhas e, 17 Colunas.\n"
          ]
        }
      ]
    },
    {
      "cell_type": "code",
      "source": [
        "# b. Qual a média da coluna windspeed?\n",
        "media_windspeed = df['windspeed'].mean()\n",
        "print(media_windspeed)"
      ],
      "metadata": {
        "colab": {
          "base_uri": "https://localhost:8080/"
        },
        "id": "pxwKW4uUYYQ6",
        "outputId": "4d1705d0-48cc-4120-e080-4bcb8376ced8"
      },
      "execution_count": null,
      "outputs": [
        {
          "output_type": "stream",
          "name": "stdout",
          "text": [
            "0.19009760630646177\n"
          ]
        }
      ]
    },
    {
      "cell_type": "code",
      "source": [
        "# c. Qual a média da coluna temp?\n",
        "media_temp = df['temp'].mean()\n",
        "print(media_temp)"
      ],
      "metadata": {
        "colab": {
          "base_uri": "https://localhost:8080/"
        },
        "id": "kPntZB6FePFp",
        "outputId": "8adb3410-412e-4c9e-b5cb-f7cddf707e41"
      },
      "execution_count": null,
      "outputs": [
        {
          "output_type": "stream",
          "name": "stdout",
          "text": [
            "0.4969871684216583\n"
          ]
        }
      ]
    },
    {
      "cell_type": "code",
      "source": [
        "# d. Quantos registros existem para o ano de 2011?\n",
        "contagem_2011 = df['year'].value_counts()\n",
        "\n",
        "# Acessar o número de registros para o ano de 2011\n",
        "registros_2011 = contagem_2011[0]\n",
        "\n",
        "print(registros_2011)"
      ],
      "metadata": {
        "colab": {
          "base_uri": "https://localhost:8080/"
        },
        "id": "VXT908u_epbv",
        "outputId": "d1c89f52-165e-46ea-bcf5-11351beb3db9"
      },
      "execution_count": null,
      "outputs": [
        {
          "output_type": "stream",
          "name": "stdout",
          "text": [
            "8645\n"
          ]
        }
      ]
    },
    {
      "cell_type": "code",
      "source": [
        "# e. Quantos registros existem para o ano de 2012?\n",
        "contagem_2012 = df['year'].value_counts()\n",
        "\n",
        "# Acessar o número de registros para o ano de 2011\n",
        "registros_2012 = contagem_2012[1]\n",
        "\n",
        "print(registros_2012)"
      ],
      "metadata": {
        "colab": {
          "base_uri": "https://localhost:8080/"
        },
        "id": "lIHeCYS_goYA",
        "outputId": "75d66991-506e-4aeb-c511-2e71aeb7d5fb"
      },
      "execution_count": null,
      "outputs": [
        {
          "output_type": "stream",
          "name": "stdout",
          "text": [
            "8734\n"
          ]
        }
      ]
    },
    {
      "cell_type": "code",
      "source": [
        "# f. Quantas locações de bicicletas foram efetuadas em 2011?\n",
        "df_2011 = df[df['year'] == 0]\n",
        "casual_2011 = df_2011['casual'].sum() # calcula numero de locacoes casuais em 2011\n",
        "registered_2011 = df_2011['registered'].sum() # calcula numero de locacoes registered em  2011\n",
        "total_2011 = df_2011['total_count'].sum() # calcula o numero total de locacoes em 2011\n",
        "\n",
        "print('Numero de locacoes casuais:', casual_2011)\n",
        "print('Numero de locacoes registered:', registered_2011)\n",
        "print('Numero de locacoes totral:', total_2011)"
      ],
      "metadata": {
        "colab": {
          "base_uri": "https://localhost:8080/"
        },
        "id": "vuh_35engwpb",
        "outputId": "07c2e5ba-9544-4638-d3ad-6a7cf61bb67a"
      },
      "execution_count": null,
      "outputs": [
        {
          "output_type": "stream",
          "name": "stdout",
          "text": [
            "Numero de locacoes casuais: 247252\n",
            "Numero de locacoes registered: 995851\n",
            "Numero de locacoes totral: 1243103\n"
          ]
        }
      ]
    },
    {
      "cell_type": "code",
      "source": [
        "# g. Quantas locações de bicicletas foram efetuadas em 2012?\n",
        "df_2012 = df[df['year'] == 1]\n",
        "casual_2012 = df_2012['casual'].sum() # calcula numero de locacoes casuais em 2012\n",
        "registered_2012 = df_2012['registered'].sum() # calcula numero de locacoes registered em  2012\n",
        "total_2012 = df_2012['total_count'].sum() # calcula o numero total de locacoes em 2012\n",
        "\n",
        "print('Numero de locacoes casuais:', casual_2012)\n",
        "print('Numero de locacoes registered:', registered_2012)\n",
        "print('Numero de locacoes totral:', total_2012)"
      ],
      "metadata": {
        "colab": {
          "base_uri": "https://localhost:8080/"
        },
        "id": "Eyd6_sAhnlVk",
        "outputId": "16851dd9-835a-4975-f16b-d5b8861e5dd1"
      },
      "execution_count": null,
      "outputs": [
        {
          "output_type": "stream",
          "name": "stdout",
          "text": [
            "Numero de locacoes casuais: 372765\n",
            "Numero de locacoes registered: 1676811\n",
            "Numero de locacoes totral: 2049576\n"
          ]
        }
      ]
    },
    {
      "cell_type": "code",
      "source": [
        "# h. Qual estação do ano contém a maior média de locações de bicicletas?\n",
        "\n",
        "map_estacoes = {1: 'inverno', 2: 'primavera', 3: 'verao', 4: 'outono'} # mapeando os valores da coluna \"season\" para as estacoes do ano correspondentes\n",
        "df['season'] = df['season'].map(map_estacoes)\n",
        "media_locacoes_estacao = df.groupby('season')['total_count'].mean() # calcula a media de locacoes por estacao do ano\n",
        "\n",
        "if not media_locacoes_estacao.empty:\n",
        "  maior_media = media_locacoes_estacao.idxmax()\n",
        "  print('Estacao com maior media de locacao eh:', maior_media)\n",
        "else:\n",
        "  print('Nao ha dados disponiveis para calcular a mediade locacoes por ano.')"
      ],
      "metadata": {
        "colab": {
          "base_uri": "https://localhost:8080/"
        },
        "id": "FznVPND9n3HK",
        "outputId": "ee415a7e-c77c-4856-e779-b09b66fdd7d6"
      },
      "execution_count": null,
      "outputs": [
        {
          "output_type": "stream",
          "name": "stdout",
          "text": [
            "Estacao com maior media de locacao eh: verao\n"
          ]
        }
      ]
    },
    {
      "cell_type": "code",
      "source": [
        "# i. Qual estação do ano contém a menor média de locações de bicicletas?\n",
        "\n",
        "if not media_locacoes_estacao.empty:\n",
        "  menor_media = media_locacoes_estacao.idxmin()\n",
        "  print('Estacao com menor media de locacao eh:', menor_media)\n",
        "else:\n",
        "  print('Nao ha dados disponiveis para calcular a mediade locacoes por ano.')"
      ],
      "metadata": {
        "colab": {
          "base_uri": "https://localhost:8080/"
        },
        "id": "PJBgO-S4_f_C",
        "outputId": "cee593e8-2146-438f-dd0b-8346dfc00b59"
      },
      "execution_count": null,
      "outputs": [
        {
          "output_type": "stream",
          "name": "stdout",
          "text": [
            "Estacao com menor media de locacao eh: inverno\n"
          ]
        }
      ]
    },
    {
      "cell_type": "code",
      "source": [
        "# j. Qual horário do dia contém a maior média de locações de bicicletas?\n",
        "\n",
        "media_locacao_hora = df.groupby('hour')['total_count'].mean() # calcula media de locacoes por hora do dia\n",
        "maior_media = media_locacao_hora.idxmax() # encontra o horario com a maior media de locacoes\n",
        "print('Horario com maior media eh:', maior_media)"
      ],
      "metadata": {
        "id": "Fx-4n_bg_1vc",
        "colab": {
          "base_uri": "https://localhost:8080/"
        },
        "outputId": "d14df075-2e22-4eab-fe41-5d9b32e960d8"
      },
      "execution_count": null,
      "outputs": [
        {
          "output_type": "stream",
          "name": "stdout",
          "text": [
            "Horario com maior media eh: 17\n"
          ]
        }
      ]
    },
    {
      "cell_type": "code",
      "source": [
        "# k. Qual horário do dia contém a menor média de locações de bicicletas?\n",
        "\n",
        "media_locacao_hora2 = df.groupby('hour')['total_count'].mean() # calcula media de locacoes por hora do dia\n",
        "menor_media = media_locacao_hora2.idxmin() # encontra o horario com a maior media de locacoes\n",
        "print('Horario com menor media eh:', menor_media)"
      ],
      "metadata": {
        "colab": {
          "base_uri": "https://localhost:8080/"
        },
        "id": "FPgsuoIS_C0E",
        "outputId": "4f2542c5-a3c9-4718-8c98-fcd8649173e9"
      },
      "execution_count": null,
      "outputs": [
        {
          "output_type": "stream",
          "name": "stdout",
          "text": [
            "Horario com menor media eh: 4\n"
          ]
        }
      ]
    },
    {
      "cell_type": "code",
      "source": [
        "# l. Que dia da semana contém a maior média de locações de bicicletas?\n",
        "\n",
        "map_weekday = {0: 'domingo', 1: 'segunda-feira', 2: 'terca-feira', 3: 'quarta-feira', 4: 'quinta-feira', 5: 'sexta-feira', 6: 'sabado'} # mapeando os dias da semana\n",
        "media_locacao_week = df.groupby('weekday')['total_count'].mean() # calcula media de locacoes por semana\n",
        "maior_media_weekday = media_locacao_week.idxmax()\n",
        "print('Dia da semana com a maior media de locacoes:', maior_media_weekday)"
      ],
      "metadata": {
        "colab": {
          "base_uri": "https://localhost:8080/"
        },
        "id": "jv5PlKUQA0Gf",
        "outputId": "e68836cf-cdc6-4e10-8d71-003330b21baf"
      },
      "execution_count": null,
      "outputs": [
        {
          "output_type": "stream",
          "name": "stdout",
          "text": [
            "Dia da semana com a maior media de locacoes: 4\n"
          ]
        }
      ]
    },
    {
      "cell_type": "code",
      "source": [
        "# m. Que dia da semana contém a menor média de locações de bicicletas?\n",
        "\n",
        "menor_media_weekday = media_locacao_week.idxmin()\n",
        "print('Dia da semana com a menor media de locacoes:', menor_media_weekday)"
      ],
      "metadata": {
        "colab": {
          "base_uri": "https://localhost:8080/"
        },
        "id": "WmmrhhMEC7Mz",
        "outputId": "d4b5648c-49ec-4b03-b889-9e16c231fe73"
      },
      "execution_count": null,
      "outputs": [
        {
          "output_type": "stream",
          "name": "stdout",
          "text": [
            "Dia da semana com a menor media de locacoes: 0\n"
          ]
        }
      ]
    },
    {
      "cell_type": "code",
      "source": [
        "# n. Às quartas-feiras (weekday = 3), qual o horário do dia que contém a maior média de locações de bicicletas?\n",
        "\n",
        "media_locacao_quarta = df[df['weekday'] == 3].groupby('hour')['total_count'].mean() # filtrando as quartas e a media de hora\n",
        "horario_maior_media_quarta = media_locacao_quarta.idxmax()\n",
        "print('Horario da quarta-feira com a maior media de locacoes de bicicletas:', horario_maior_media_quarta)"
      ],
      "metadata": {
        "colab": {
          "base_uri": "https://localhost:8080/"
        },
        "id": "9WWMauYFDoHt",
        "outputId": "16e842b3-7f40-41e7-99c0-beab8267a67a"
      },
      "execution_count": null,
      "outputs": [
        {
          "output_type": "stream",
          "name": "stdout",
          "text": [
            "Horario da quarta-feira com a maior media de locacoes de bicicletas: 17\n"
          ]
        }
      ]
    },
    {
      "cell_type": "code",
      "source": [
        "# o. Aos sábados (weekday = 6), qual o horário do dia que contém a maior média de locações de bicicletas?\n",
        "media_locacao_sabado = df[df['weekday'] == 6].groupby('hour')['total_count'].mean() # filtrando os sabados e a media de hora\n",
        "horario_maior_media_sabado = media_locacao_quarta.idxmax()\n",
        "print('Horario da quarta-feira com a maior media de locacoes de bicicletas:', horario_maior_media_sabado)"
      ],
      "metadata": {
        "colab": {
          "base_uri": "https://localhost:8080/"
        },
        "id": "HR3TvVJqFiyw",
        "outputId": "4b4f62fe-6a78-4ebf-b959-ef1ad863f5a9"
      },
      "execution_count": null,
      "outputs": [
        {
          "output_type": "stream",
          "name": "stdout",
          "text": [
            "Horario da quarta-feira com a maior media de locacoes de bicicletas: 17\n"
          ]
        }
      ]
    }
  ]
}