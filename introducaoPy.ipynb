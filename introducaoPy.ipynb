{
  "cells": [
    {
      "cell_type": "markdown",
      "metadata": {
        "id": "view-in-github",
        "colab_type": "text"
      },
      "source": [
        "<a href=\"https://colab.research.google.com/github/RegretCode/Desenvolvedor-Python-IGTI/blob/main/introducaoPy.ipynb\" target=\"_parent\"><img src=\"https://colab.research.google.com/assets/colab-badge.svg\" alt=\"Open In Colab\"/></a>"
      ]
    },
    {
      "cell_type": "code",
      "execution_count": null,
      "metadata": {
        "colab": {
          "base_uri": "https://localhost:8080/"
        },
        "id": "0bC9NV8BmFQ8",
        "outputId": "43f240c9-f8fa-4914-ae44-acd31b72b791"
      },
      "outputs": [
        {
          "name": "stdout",
          "output_type": "stream",
          "text": [
            "Olá Antônio Carlos seja bem-vindo!\n"
          ]
        }
      ],
      "source": [
        "nome = 'Antônio Carlos';\n",
        "print('Olá', nome, 'seja bem-vindo!');"
      ]
    },
    {
      "cell_type": "code",
      "execution_count": null,
      "metadata": {
        "colab": {
          "base_uri": "https://localhost:8080/"
        },
        "id": "IfC6QbpEnOyb",
        "outputId": "ef1906e1-2e8c-493f-84ba-5eca887a25cf"
      },
      "outputs": [
        {
          "name": "stdout",
          "output_type": "stream",
          "text": [
            "Opa Tiaguinho dos Morangos, baum?\n"
          ]
        }
      ],
      "source": [
        "pessoa = 'Tiaguinho dos Morangos,';\n",
        "print('Opa', pessoa,'baum?');"
      ]
    },
    {
      "cell_type": "code",
      "execution_count": null,
      "metadata": {
        "colab": {
          "background_save": true
        },
        "id": "M8h5zRx5n-ns",
        "outputId": "fc896909-5ab0-41ba-95db-c87df57dc2d2"
      },
      "outputs": [
        {
          "data": {
            "text/plain": [
              "0.2"
            ]
          },
          "execution_count": 23,
          "metadata": {},
          "output_type": "execute_result"
        }
      ],
      "source": [
        "numero = 2\n",
        "numero * 4\n",
        "numero + 1\n",
        "numero / 10\n",
        "\n",
        "# resolve sempre se baseando na ultima operacao que foi inserida, nao eh acumulativo"
      ]
    }
  ],
  "metadata": {
    "colab": {
      "toc_visible": true,
      "provenance": [],
      "authorship_tag": "ABX9TyM2UghFEScJWI3x/30RZReY",
      "include_colab_link": true
    },
    "kernelspec": {
      "display_name": "Python 3",
      "name": "python3"
    },
    "language_info": {
      "name": "python"
    }
  },
  "nbformat": 4,
  "nbformat_minor": 0
}