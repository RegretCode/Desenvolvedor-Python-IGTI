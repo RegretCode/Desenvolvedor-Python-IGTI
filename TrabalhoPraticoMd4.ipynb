{
  "nbformat": 4,
  "nbformat_minor": 0,
  "metadata": {
    "colab": {
      "provenance": [],
      "authorship_tag": "ABX9TyORsMH2WEb3BY9QGRYyIiIS",
      "include_colab_link": true
    },
    "kernelspec": {
      "name": "python3",
      "display_name": "Python 3"
    },
    "language_info": {
      "name": "python"
    }
  },
  "cells": [
    {
      "cell_type": "markdown",
      "metadata": {
        "id": "view-in-github",
        "colab_type": "text"
      },
      "source": [
        "<a href=\"https://colab.research.google.com/github/RegretCode/Desenvolvedor-Python-IGTI/blob/main/TrabalhoPraticoMd4.ipynb\" target=\"_parent\"><img src=\"https://colab.research.google.com/assets/colab-badge.svg\" alt=\"Open In Colab\"/></a>"
      ]
    },
    {
      "cell_type": "code",
      "execution_count": null,
      "metadata": {
        "id": "CGZKDnfNpY1D"
      },
      "outputs": [],
      "source": [
        "# A linguagem Python é bastante utilizada no meio da Ciência de Dados e do\n",
        "# Aprendizado de Máquina. Outras áreas do conhecimento, como a Matemática,\n",
        "# a Física e a Probabilidade, também a empregam bastante para ajudar a\n",
        "# simular e a resolver problemas através da programação. Boa parte da\n",
        "# popularidade dessa linguagem está relacionada à forma como o código é\n",
        "# construído e à sua facilidade de leitura e de interpretação.\n",
        "\n",
        "# Atividades\n",
        "\n",
        "# 1. Acessar o banco de dados, deve-se realizar a importação através da biblioteca sklearn.\n",
        "\n",
        "# Todos os dados da tabela deverão ser considerados para uso, a título de\n",
        "# conhecimento os dados são descritos conforme a seguir:\n",
        "\n",
        "# • CRIM - taxa de criminalidade per capita por cidade.\n",
        "# • ZN - proporção de terrenos residenciais zoneados para lotes acima de 25.000 m².\n",
        "# • INDUS - proporção de acres de negócios não varejistas por cidade.\n",
        "# • CHAS - Variável fictícia Charles River (1 se o trato limita o rio; 0 caso contrário).\n",
        "# • NOX - concentração de óxidos nítricos (partes por 10 milhões).\n",
        "# • RM - número médio de cômodos por domicílio.\n",
        "# • IDADE - proporção de unidades ocupadas pelos proprietários construídas antes de 1940.\n",
        "# • DIS - distâncias ponderadas para cinco centros de emprego de Boston.\n",
        "# • RAD - índice de acessibilidade às rodovias radiais.\n",
        "# • IMPOSTO - taxa de imposto de propriedade de valor total por $10.000.\n",
        "# • PTRATIO - relação aluno-professor por cidade.\n",
        "# • B - 1000(Bk - 0,63)^2 onde Bk é a proporção de negros por cidade.\n",
        "# • LSTAT - % menor status da população.\n",
        "# • MEDV - Valor médio das casas ocupadas pelos proprietários em $1.000\n",
        "\n",
        "# 2. Para a separação dos dados de treino e teste considere usar o módulo train_test_split\n",
        "\n",
        "# Para criar sua rede neural, utilize a arquitetura abaixo, observando o ajuste da\n",
        "# quantidade de neurônios, em units conforme desejado. Observe que a\n",
        "# camada de saída terá apenas um neurônio.\n",
        "\n",
        "# Nota: Substituta ‘P’ por um número inteiro que deseja ter de neurônios em sua camada.\n",
        "# Teste diferentes modelos de redes neurais e veja qual modelo obteve\n",
        "# melhores resultados de erros e acurácia."
      ]
    },
    {
      "cell_type": "code",
      "source": [
        "# 1.\n",
        "import pandas as pd\n",
        "import numpy as np\n",
        "\n",
        "data_url = \"http://lib.stat.cmu.edu/datasets/boston\"\n",
        "raw_df = pd.read_csv(data_url, sep=\"\\s+\", skiprows=22, header=None)\n",
        "data = np.hstack([raw_df.values[::2, :], raw_df.values[1::2, :2]])\n",
        "target = raw_df.values[1::2, 2]\n",
        "\n",
        "x = data\n",
        "y = target"
      ],
      "metadata": {
        "id": "D5w-LMYBqwOh"
      },
      "execution_count": null,
      "outputs": []
    },
    {
      "cell_type": "code",
      "source": [
        "# 2.\n",
        "from keras.models import Sequential\n",
        "from keras.layers import Dense\n",
        "from sklearn.model_selection import train_test_split\n",
        "\n",
        "# Divida os dados em conjunto de treino e teste\n",
        "X_train, X_test, y_train, y_test = train_test_split(data, target, test_size=0.2, random_state=42)\n",
        "\n",
        "# Criando o modelo da rede neural\n",
        "model = Sequential()\n",
        "model.add(Dense(units=32, activation='relu', input_shape=(X_train.shape[1],)))\n",
        "model.add(Dense(units=16, activation='relu'))\n",
        "model.add(Dense(units=1, activation='linear'))\n",
        "\n",
        "# Compilando o modelo\n",
        "model.compile(loss='mean_squared_error', optimizer='adam', metrics=['mean_squared_error'])\n",
        "\n",
        "# Treinando o modelo\n",
        "model.fit(X_train, y_train, epochs=10, batch_size=32, verbose=1)\n",
        "\n",
        "# Avaliando o modelo no conjunto de teste\n",
        "loss, mse = model.evaluate(X_test, y_test)\n"
      ],
      "metadata": {
        "colab": {
          "base_uri": "https://localhost:8080/"
        },
        "id": "Xw-XxmUr6I05",
        "outputId": "89e6706c-c9f9-486c-f76b-b7f5db631501"
      },
      "execution_count": null,
      "outputs": [
        {
          "output_type": "stream",
          "name": "stdout",
          "text": [
            "Epoch 1/10\n",
            "13/13 [==============================] - 1s 2ms/step - loss: 1195.4497 - mean_squared_error: 1195.4497\n",
            "Epoch 2/10\n",
            "13/13 [==============================] - 0s 2ms/step - loss: 459.8681 - mean_squared_error: 459.8681\n",
            "Epoch 3/10\n",
            "13/13 [==============================] - 0s 2ms/step - loss: 162.8025 - mean_squared_error: 162.8025\n",
            "Epoch 4/10\n",
            "13/13 [==============================] - 0s 2ms/step - loss: 111.3494 - mean_squared_error: 111.3494\n",
            "Epoch 5/10\n",
            "13/13 [==============================] - 0s 2ms/step - loss: 106.9891 - mean_squared_error: 106.9891\n",
            "Epoch 6/10\n",
            "13/13 [==============================] - 0s 2ms/step - loss: 92.8182 - mean_squared_error: 92.8182\n",
            "Epoch 7/10\n",
            "13/13 [==============================] - 0s 3ms/step - loss: 85.1969 - mean_squared_error: 85.1969\n",
            "Epoch 8/10\n",
            "13/13 [==============================] - 0s 2ms/step - loss: 80.5053 - mean_squared_error: 80.5053\n",
            "Epoch 9/10\n",
            "13/13 [==============================] - 0s 2ms/step - loss: 76.8580 - mean_squared_error: 76.8580\n",
            "Epoch 10/10\n",
            "13/13 [==============================] - 0s 2ms/step - loss: 76.0715 - mean_squared_error: 76.0715\n",
            "4/4 [==============================] - 0s 4ms/step - loss: 63.1869 - mean_squared_error: 63.1869\n"
          ]
        }
      ]
    }
  ]
}